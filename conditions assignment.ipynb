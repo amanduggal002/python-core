{
 "cells": [
  {
   "cell_type": "code",
   "execution_count": 1,
   "id": "a60082b3",
   "metadata": {},
   "outputs": [
    {
     "name": "stdout",
     "output_type": "stream",
     "text": [
      "Input a number: 8\n",
      "It is positive number\n"
     ]
    }
   ],
   "source": [
    "#WAP TO CHECK THE NUMBER IS POSITIVE OR NEGATIVE OR ZERO:\n",
    "num = int(input(\"Input a number: \"))\n",
    "if num > 0:\n",
    "    print(\"It is positive number\")\n",
    "elif num == 0:\n",
    "    print(\"It is Zero\")\n",
    "else:\n",
    "    print(\"It is a negative number\")\n",
    "   "
   ]
  },
  {
   "cell_type": "code",
   "execution_count": 4,
   "id": "584711d7",
   "metadata": {},
   "outputs": [
    {
     "name": "stdout",
     "output_type": "stream",
     "text": [
      "enter the number:35\n",
      "magic 35\n"
     ]
    }
   ],
   "source": [
    "#WAP TO CHECK THE NUMBER IS DIVISIBLE BY 5 OR NOT OR DIVISBLE BY 7 OR NOT OR TO CHECK IT DIVISIBLE BY BOTH:\n",
    "no=int(input(\"enter the number:\"))\n",
    "if no%5==0 and no%7==0:\n",
    "    print(\"magic\",no)\n",
    "elif no%5==0:\n",
    "    print(\"divisible by 5\",no)\n",
    "elif no%7==0:\n",
    "    print(\"divisible by 7\",no)\n",
    "else:\n",
    "    print(\"no magic\",no)"
   ]
  },
  {
   "cell_type": "code",
   "execution_count": 9,
   "id": "3bdb4db3",
   "metadata": {},
   "outputs": [
    {
     "name": "stdout",
     "output_type": "stream",
     "text": [
      "enter the number:35\n",
      "its a odd number 35\n",
      "42875 cube of  35\n"
     ]
    }
   ],
   "source": [
    "#WAP TO CHECK WHEATHER NUMBER IS ODD OR EVEN IF IT IS ODD THEN CHECK IT IS DIVISBLE BY 7 OR NOT IF IT IS DIVISBLE BY 7 THEN COMPUTE THE CUBE OF THE NUMBER \n",
    "n=int(input(\"enter the number:\"))\n",
    "if n%2==0:\n",
    "    print(\"its a even number\",n)\n",
    "if n%2!=0:\n",
    "    print(\"its a odd number\",n)\n",
    "    if n%7==0:\n",
    "        print(n**3,\"cube of \",n)\n",
    "    else:\n",
    "        print(\"not divisible by 7\",n)\n",
    "else:\n",
    "    print(\"error:\")"
   ]
  },
  {
   "cell_type": "code",
   "execution_count": 12,
   "id": "009103b9",
   "metadata": {},
   "outputs": [
    {
     "name": "stdout",
     "output_type": "stream",
     "text": [
      "enter the username:parmod123\n",
      "enter the password:123456789\n",
      "welcome to the website\n"
     ]
    }
   ],
   "source": [
    "#WAP TO CHECK THE USER NAME AND PASSWORD:\n",
    "user=input(\"enter the username:\")\n",
    "passw=input(\"enter the password:\")\n",
    "us=\"parmod123\"\n",
    "pa=\"123456789\"\n",
    "if user==us and passw==pa:\n",
    "    print(\"welcome to the website\")\n",
    "else:\n",
    "    print(\"invalid username and password\")\n",
    "    "
   ]
  },
  {
   "cell_type": "code",
   "execution_count": 16,
   "id": "a1353335",
   "metadata": {},
   "outputs": [
    {
     "name": "stdout",
     "output_type": "stream",
     "text": [
      "enter the number:85963\n",
      "more than three digit number: 85963\n"
     ]
    }
   ],
   "source": [
    "#WAP TO CHECK THE NUMBER IS ONE DIGIT TWO DIGIT THREE DIGIT:\n",
    "N=input(\"enter the number:\")\n",
    "h= len(N)\n",
    "if h==1:\n",
    "    print(\"one digit number:\",N)\n",
    "elif h==2:\n",
    "    print(\"two digit number:\",N)\n",
    "elif h==3:\n",
    "    print(\"three digit number:\",N)\n",
    "else:\n",
    "    print(\"more than three digit number:\",N)"
   ]
  },
  {
   "cell_type": "code",
   "execution_count": 20,
   "id": "b8b2828f",
   "metadata": {},
   "outputs": [
    {
     "name": "stdout",
     "output_type": "stream",
     "text": [
      "enter the number:8\n",
      "enter the number:9\n",
      "enter the number:15\n",
      "c is the largest number 15\n"
     ]
    }
   ],
   "source": [
    "#WAP to take three numbers and find the largest numbers:\n",
    "a=int(input(\"enter the number:\"))\n",
    "b=int(input(\"enter the number:\"))\n",
    "c=int(input(\"enter the number:\"))\n",
    "if (a >= b) and (a >= c):\n",
    "    largest = a\n",
    "    print(\"a is the largest\",a)    \n",
    "elif (b >= a) and (b >= c):\n",
    "    largest = b\n",
    "    print(\"b is the largest number\",b)\n",
    "else:\n",
    "    largest = c\n",
    "    print(\"c is the largest number\",c)\n"
   ]
  },
  {
   "cell_type": "code",
   "execution_count": 22,
   "id": "91cccca3",
   "metadata": {},
   "outputs": [
    {
     "name": "stdout",
     "output_type": "stream",
     "text": [
      "enter the numbers:8\n",
      "enter the numbers:9\n",
      "enter the numbers:10\n",
      "yes it can form a triangle:\n"
     ]
    }
   ],
   "source": [
    "#WAP THAT READ THREE POSITIVE NUMBERS a,b,c and determines wheather they can form a triangle or not:\n",
    "a=int(input(\"enter the numbers:\"))\n",
    "b=int(input(\"enter the numbers:\"))\n",
    "c=int(input(\"enter the numbers:\"))\n",
    "if a+b>c:\n",
    "    print(\"yes it can form a triangle:\")\n",
    "else:\n",
    "    print(\"no it cannot form a triangle:\")\n"
   ]
  },
  {
   "cell_type": "code",
   "execution_count": 27,
   "id": "9cdf259d",
   "metadata": {},
   "outputs": [
    {
     "name": "stdout",
     "output_type": "stream",
     "text": [
      "enter the triangle side:78\n",
      "enter the triangle side:85\n",
      "enter the triangle side:96\n",
      "The Triangle with given sides 78 85 96 is Acute-angled triangle \n"
     ]
    }
   ],
   "source": [
    "#WAP TO CHECK WHETHER THE TRIANGLE WILL BE  an obtuse angle, or a right angle or an acute angle triangle\n",
    "side1 = int(input(\"enter the triangle side:\"))\n",
    "side2 = int(input(\"enter the triangle side:\"))\n",
    "side3 = int(input(\"enter the triangle side:\"))\n",
    "squareside1 = side1**2\n",
    "squareside2 = side2**2\n",
    "squareside3 = side3**2\n",
    "\n",
    "if(squareside1 == (squareside3 + squareside2) or squareside2 == (squareside1+squareside3) or squareside3 == (squareside1+squareside2)):\n",
    "    print('The Triangle with given sides', side1, side2, side3, 'is Right-angled triangle ')\n",
    "elif(squareside1 > (squareside3 + squareside2) or squareside2 > (squareside1+squareside3) or squareside3 > (squareside1+squareside2)):\n",
    "    print('The Triangle with given sides', side1,side2, side3, 'is Obtuse-angled triangle ')\n",
    "else:\n",
    "    print('The Triangle with given sides', side1,side2, side3, 'is Acute-angled triangle ')\n",
    "        "
   ]
  },
  {
   "cell_type": "code",
   "execution_count": 33,
   "id": "bcfa77b5",
   "metadata": {},
   "outputs": [
    {
     "name": "stdout",
     "output_type": "stream",
     "text": [
      "enter the triangle side:8\n",
      "enter the triangle side:7\n",
      "enter the triangle side:9\n",
      "its an scalene triangle\n"
     ]
    }
   ],
   "source": [
    "si1 = int(input(\"enter the triangle side:\"))\n",
    "si2 = int(input(\"enter the triangle side:\"))\n",
    "si3 = int(input(\"enter the triangle side:\"))\n",
    "if si1==si2==si3:\n",
    "    print(\"its an equilateral triangle\")\n",
    "elif si1!=si2!=si3:\n",
    "    print(\"its an scalene triangle\")\n",
    "else :\n",
    "    print(\"its an isosceles triangle\")\n"
   ]
  },
  {
   "cell_type": "code",
   "execution_count": 36,
   "id": "465ef3c3",
   "metadata": {},
   "outputs": [
    {
     "name": "stdout",
     "output_type": "stream",
     "text": [
      "Enter your unit: 850\n",
      "total bill 1400\n"
     ]
    }
   ],
   "source": [
    "#WAP TO CALCULATE THE ELECTRICITY BILL (ACCEPT NUMBER OF UNIT FROM USER)\n",
    "unit = int(input(\"Enter your unit: \"))\n",
    "if unit <= 100:\n",
    "    bill = unit*.5 \n",
    "    print(\"total bill\",bill)\n",
    "elif unit >= 101 and unit <= 200:\n",
    "    bill = 50+((unit - 100) * 1)\n",
    "    print(\"total bill\",bill)\n",
    "elif unit >=201 and unit<=300:\n",
    "    bill =  150+ ((unit - 200) * 1.5)\n",
    "    print(\"total bill\",bill)\n",
    "elif unit>=301:\n",
    "    bill= 300+((unit-300)*2)\n",
    "    print(\"total bill\",bill)\n",
    "\n",
    "else:\n",
    "    print(\"sorry try again\")"
   ]
  },
  {
   "cell_type": "code",
   "execution_count": 3,
   "id": "bace3911",
   "metadata": {},
   "outputs": [
    {
     "name": "stdout",
     "output_type": "stream",
     "text": [
      "welcome to our cafe \n",
      " WE're deligited to have you as our customer:-\n",
      "there is ur menu card, we have different meals\n",
      " 1.pizza 2.burger 3.hotdog-:\n",
      "place ur order:burger\n",
      "what do you want in burger:- \n",
      " 1.single layer cheese 2.double layer cheese:\n",
      "burger:double layer cheese\n",
      "Rs 190\n",
      "what do u want in drinks sir, we have different drinks \n",
      " 1.mojito 2.martini 3.mint julip\n",
      "choose drinksmintjulip\n",
      "Rs 150\n",
      "sir ur bill 324.0\n",
      "thanks for coming \n",
      " visit again have a good day\n"
     ]
    }
   ],
   "source": [
    "print(\"welcome to our cafe \\n WE're deligited to have you as our customer:-\")\n",
    "print(\"there is ur menu card, we have different meals\\n 1.pizza 2.burger 3.hotdog-:\")\n",
    "meals=input(\"place ur order:\")\n",
    "if meals==\"pizza\":\n",
    "    print(\"what do you want in pizza:- \\n 1.paneer 2.mushroom 3.capsicum\")\n",
    "    ni=input(\"enter pizza toppings:\")\n",
    "    if ni==\"paneer\":\n",
    "        bill1=140\n",
    "        print(\"Rs 140\")\n",
    "    if ni==\"mushroom\":\n",
    "        bill1=120\n",
    "        print(\"Rs 120\")\n",
    "    if ni==\"capsicum\":\n",
    "        bill1=90\n",
    "        print(\"Rs 90\")\n",
    "    else:\n",
    "        bill1=0\n",
    "        print(\"sorry sir we don't have\")\n",
    "elif meals==\"burger\":\n",
    "    print(\"what do you want in burger:- \\n 1.single layer cheese 2.double layer cheese:\")\n",
    "    it=input(\"burger:\")\n",
    "    if it==\"single layer cheese\":\n",
    "        bill1=160\n",
    "        print(\"Rs 160\")\n",
    "    elif it==\"double layer cheese\":\n",
    "        bill=190\n",
    "        print(\"Rs 190\")\n",
    "    else:\n",
    "        bill1=0\n",
    "        print(\"sorry sir we don't have\")\n",
    "elif meals==\"hotdog\":\n",
    "    print(\"what do you want in hotdog sir:- \\n 1.single layer cheese 2.double layer cheese \")\n",
    "    ch=input(\"hotdog:\")\n",
    "    if ch==\"single layer\":\n",
    "        bill1=150\n",
    "        print(\"Rs 150\")\n",
    "    elif ch==\"double layer cheese\":\n",
    "        bill1=185\n",
    "        print(\"Rs 110\")\n",
    "    else:\n",
    "        bill1=0\n",
    "        print(\"sorry sir we don't have\")\n",
    "\n",
    "print(\"what do u want in drinks sir, we have different drinks \\n 1.mojito 2.martini 3.mint julip\")\n",
    "dr=input(\"choose drinks\")\n",
    "if dr==\"mojito\":\n",
    "    bill2=90\n",
    "    print(\"Rs 90\")\n",
    "elif dr==\"martini\":\n",
    "    bill2=120\n",
    "    print(\"Rs 120\")\n",
    "elif dr==\"mintjulip\":\n",
    "    bill2=150\n",
    "    print(\"Rs 150\")\n",
    "else:\n",
    "    bill2=0\n",
    "    print(\"sorry sir we don't have\")\n",
    "beforetax_bill=bill1+ bill2\n",
    "tax= beforetax_bill*.08\n",
    "total_bill=beforetax_bill+tax\n",
    "print(\"sir ur bill\",total_bill)\n",
    "print(\"thanks for coming \\n visit again have a good day\")"
   ]
  },
  {
   "cell_type": "code",
   "execution_count": 5,
   "id": "b74332f8",
   "metadata": {},
   "outputs": [
    {
     "name": "stdout",
     "output_type": "stream",
     "text": [
      "enter the number:78\n",
      "enter the number:85\n",
      "enter the number:96466\n",
      "enter the number:546\n",
      "enter the number:565\n",
      "enter the number:541\n",
      "-146116997753636538147641\n"
     ]
    }
   ],
   "source": [
    "x=int(input(\"enter the number:\"))\n",
    "k=int(input(\"enter the number:\"))\n",
    "a=int(input(\"enter the number:\"))\n",
    "b=int(input(\"enter the number:\"))\n",
    "c=int(input(\"enter the number:\"))\n",
    "d=int(input(\"enter the number:\"))\n",
    "if x>k:\n",
    "    print((a*b)**3-(b*x)**2+(c*x)**2-d)\n",
    "elif x==k:\n",
    "    print(0)\n",
    "elif x<k:\n",
    "    print(-(a*b)**3+(b*x)**2-(c*x)+d)\n",
    "else:\n",
    "    print(\"not correct\")"
   ]
  },
  {
   "cell_type": "code",
   "execution_count": 11,
   "id": "7297c7f6",
   "metadata": {},
   "outputs": [
    {
     "name": "stdout",
     "output_type": "stream",
     "text": [
      "welcome to our shop \n",
      " WE're deligited to have you as our customer:-\n",
      "there is ur menu card, we have different types of toys \n",
      " 1.battery based toy 2.key based toy 3.electrical based toys-:\n",
      "place ur order:2\n",
      "enter the bill:950\n",
      "total bill 902.5\n"
     ]
    }
   ],
   "source": [
    "print(\"welcome to our shop \\n WE're deligited to have you as our customer:-\")\n",
    "print(\"there is ur menu card, we have different types of toys \\n 1.battery based toy 2.key based toy 3.electrical based toys-:\")\n",
    "toytype=int(input(\"place ur order:\"))\n",
    "if toytype==1:\n",
    "    bill=int(input(\"enter the bill:\"))\n",
    "    if bill>1000:\n",
    "        print(\"total bill\",bill-bill*.10)\n",
    "    else:\n",
    "        print(\"total bill\",bill)\n",
    "elif toytype==2:\n",
    "    bill=int(input(\"enter the bill:\"))\n",
    "    if bill>100:\n",
    "        print(\"total bill\",bill-bill*.05)\n",
    "    else:\n",
    "        print(\"total bill\",bill)\n",
    "elif toytype==3:\n",
    "    bill=int(input(\"enter the bill:\"))\n",
    "    if bill>500:\n",
    "        print(\"total bill\",bill-bill*.10)\n",
    "    else:\n",
    "        print(\"total bill\",bill)\n",
    "else:\n",
    "    print(\"not valid product code:\")\n",
    "\n",
    "\n"
   ]
  },
  {
   "cell_type": "code",
   "execution_count": null,
   "id": "cdb79e55",
   "metadata": {},
   "outputs": [],
   "source": [
    ")"
   ]
  }
 ],
 "metadata": {
  "kernelspec": {
   "display_name": "Python 3 (ipykernel)",
   "language": "python",
   "name": "python3"
  },
  "language_info": {
   "codemirror_mode": {
    "name": "ipython",
    "version": 3
   },
   "file_extension": ".py",
   "mimetype": "text/x-python",
   "name": "python",
   "nbconvert_exporter": "python",
   "pygments_lexer": "ipython3",
   "version": "3.9.12"
  }
 },
 "nbformat": 4,
 "nbformat_minor": 5
}
